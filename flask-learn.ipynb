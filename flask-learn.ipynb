{
 "cells": [
  {
   "cell_type": "markdown",
   "metadata": {},
   "source": [
    "# Flask\n",
    "\n",
    "Aşağıda ana sayfaya ulaşmak istediğimizde kullandıgımız yapı. "
   ]
  },
  {
   "cell_type": "code",
   "execution_count": null,
   "metadata": {},
   "outputs": [],
   "source": [
    "from flask import Flask\n",
    "from flask import render_template"
   ]
  },
  {
   "cell_type": "code",
   "execution_count": null,
   "metadata": {},
   "outputs": [],
   "source": [
    "@app.route('/')\n",
    "def hello():\n",
    "    return render_template(\"index.html\")"
   ]
  },
  {
   "cell_type": "code",
   "execution_count": null,
   "metadata": {},
   "outputs": [],
   "source": [
    "# __main__ çağırdıgımızda ana uygulamamız içerisindeki '/' bularak başlatabilmekte. \n",
    "if __name__ == '__main__':\n",
    "    app.run()"
   ]
  },
  {
   "cell_type": "code",
   "execution_count": null,
   "metadata": {},
   "outputs": [],
   "source": [
    "# GET metodu ile form göndermek HTTP üzerinden \n",
    "<body>\n",
    "    <form action=\"http://www.google.com\" method=\"GET\">\n",
    "        \n",
    "        <p>\n",
    "            <label for=\"mailtag\">Email</label>\n",
    "            <input type=\"email\" name=\"\" id=\"mailtag\" value=\"admin@ozguruygulama.com\">\n",
    "        </p>\n",
    "        <p>\n",
    "            <label for=\"passtag\">Password</label>\n",
    "            <input type=\"password\" name=\"\" id=\"passtag\" value=\"12345678\">\n",
    "        </p>\n",
    "        <p><input type=\"submit\" value=\"Submit\"></p>\n",
    "    </form>    \n",
    "</body>"
   ]
  },
  {
   "cell_type": "markdown",
   "metadata": {},
   "source": [
    "# HTML intro\n",
    "\n",
    "<b>h1</b> başlık yazmak için kullanılır. h2,3... şeklinde karakter boyutu ayarlanabilir. \n",
    "\n",
    "<b>p</b> yeni paragrafı başlatırız. \n",
    "\n",
    "<b>input</b> anahtar kelimesi ile doldurulacak şifre, kullanıcı adı vb kutucukları yaratırız. \n",
    "\n",
    "<b>button</b> buton eklenmesi. \n",
    "\n",
    "### Extra info: **HTTP Methods**\n",
    "**Info:https://http.cat/**\n",
    "\n",
    "**GET**: is used to request data from a specified resource. GET is one of the most common HTTP methods. *only ascii*, *have length restrictions,maximum URL length is 2048 characters*, *Data is visible to everyone in the URL*\n",
    "\n",
    "**POST**: is used to send data to a server to create/update a resource. *No restrictions. Binary data is also allowed*, *no restrictions on data length*\n",
    "\n"
   ]
  }
 ],
 "metadata": {
  "language_info": {
   "codemirror_mode": {
    "name": "ipython",
    "version": 3
   },
   "file_extension": ".py",
   "mimetype": "text/x-python",
   "name": "python",
   "nbconvert_exporter": "python",
   "pygments_lexer": "ipython3",
   "version": 3
  },
  "orig_nbformat": 2
 },
 "nbformat": 4,
 "nbformat_minor": 2
}