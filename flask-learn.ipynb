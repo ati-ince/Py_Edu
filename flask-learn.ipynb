{
 "cells": [
  {
   "cell_type": "markdown",
   "metadata": {},
   "source": [
    "# Flask\n",
    "\n",
    "Aşağıda ana sayfaya ulaşmak istediğimizde kullandıgımız yapı. "
   ]
  },
  {
   "cell_type": "code",
   "execution_count": null,
   "metadata": {},
   "outputs": [],
   "source": [
    "from flask import Flask\n",
    "from flask import render_template"
   ]
  },
  {
   "cell_type": "code",
   "execution_count": null,
   "metadata": {},
   "outputs": [],
   "source": [
    "@app.route('/')\n",
    "def hello():\n",
    "    return render_template(\"index.html\")"
   ]
  },
  {
   "cell_type": "code",
   "execution_count": null,
   "metadata": {},
   "outputs": [],
   "source": [
    "# __main__ çağırdıgımızda ana uygulamamız içerisindeki '/' bularak başlatabilmekte. \n",
    "if __name__ == '__main__':\n",
    "    app.run()"
   ]
  },
  {
   "cell_type": "markdown",
   "metadata": {},
   "source": [
    "# HTML intro\n",
    "\n",
    "<b>h1</b> başlık yazmak için kullanılır. h2,3... şeklinde karakter boyutu ayarlanabilir. \n",
    "\n",
    "<b>p</b> yeni paragrafı başlatırız. \n",
    "\n",
    "<b>input</b> anahtar kelimesi ile doldurulacak şifre, kullanıcı adı vb kutucukları yaratırız. \n",
    "\n",
    "<b>button</b> buton eklenmesi. "
   ]
  }
 ],
 "metadata": {
  "language_info": {
   "codemirror_mode": {
    "name": "ipython",
    "version": 3
   },
   "file_extension": ".py",
   "mimetype": "text/x-python",
   "name": "python",
   "nbconvert_exporter": "python",
   "pygments_lexer": "ipython3",
   "version": 3
  },
  "orig_nbformat": 2
 },
 "nbformat": 4,
 "nbformat_minor": 2
}