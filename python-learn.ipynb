{
 "cells": [
  {
   "cell_type": "markdown",
   "metadata": {},
   "source": [
    "# Learning Python \n",
    "\n",
    "In here, I try to undestand and rewiev of python. This is basically include some my personal notes:"
   ]
  },
  {
   "cell_type": "markdown",
   "metadata": {},
   "source": [
    "** # print** function also can be use for write to file, not only to terminal. Other feature we already using it. "
   ]
  },
  {
   "cell_type": "code",
   "execution_count": 10,
   "metadata": {},
   "outputs": [],
   "source": [
    "f = open(\"test.txt\", \"w\") # w: write in first time, a: append\n",
    "print(\"hello kittty :) \", file=f)\n",
    "f.close()"
   ]
  },
  {
   "cell_type": "markdown",
   "metadata": {},
   "source": [
    "## STRINGS\n",
    "**strings** are **immutable**   "
   ]
  },
  {
   "cell_type": "code",
   "execution_count": 13,
   "metadata": {},
   "outputs": [
    {
     "output_type": "execute_result",
     "data": {
      "text/plain": "140171372488112"
     },
     "metadata": {},
     "execution_count": 13
    }
   ],
   "source": [
    "name = \"my name is ati\"\n",
    "id(name) #that refer the object that show us the like register number of variable.. "
   ]
  },
  {
   "cell_type": "code",
   "execution_count": 28,
   "metadata": {
    "tags": []
   },
   "outputs": [
    {
     "output_type": "execute_result",
     "data": {
      "text/plain": "14"
     },
     "metadata": {},
     "execution_count": 28
    }
   ],
   "source": [
    "# calculate the string length we have 2 method:\n",
    "len(name) #and  name.__len__()\n"
   ]
  },
  {
   "cell_type": "code",
   "execution_count": 40,
   "metadata": {
    "tags": []
   },
   "outputs": [
    {
     "output_type": "execute_result",
     "data": {
      "text/plain": "'String immutubility test'"
     },
     "metadata": {},
     "execution_count": 40
    }
   ],
   "source": [
    "# the other **important features** is string has so many methods to use:\n",
    "name.capitalize()"
   ]
  },
  {
   "cell_type": "code",
   "execution_count": 42,
   "metadata": {},
   "outputs": [
    {
     "output_type": "execute_result",
     "data": {
      "text/plain": "'string immutubility test'"
     },
     "metadata": {},
     "execution_count": 42
    }
   ],
   "source": [
    "name.lower() #or use .upper()"
   ]
  },
  {
   "cell_type": "code",
   "execution_count": 32,
   "metadata": {},
   "outputs": [
    {
     "output_type": "execute_result",
     "data": {
      "text/plain": "'my name is tina'"
     },
     "metadata": {},
     "execution_count": 32
    }
   ],
   "source": [
    "# lets change some string in the string.. This is pretty important method to use\n",
    "name.replace(\"ati\",\"tina\")"
   ]
  },
  {
   "cell_type": "code",
   "execution_count": 38,
   "metadata": {},
   "outputs": [],
   "source": [
    "name = \"string immutubility test\"\n",
    "#name[0] = \"S\" #getting error\n"
   ]
  },
  {
   "cell_type": "code",
   "execution_count": null,
   "metadata": {},
   "outputs": [],
   "source": []
  }
 ],
 "metadata": {
  "language_info": {
   "codemirror_mode": {
    "name": "ipython",
    "version": 3
   },
   "file_extension": ".py",
   "mimetype": "text/x-python",
   "name": "python",
   "nbconvert_exporter": "python",
   "pygments_lexer": "ipython3",
   "version": "3.6.9-final"
  },
  "orig_nbformat": 2,
  "kernelspec": {
   "name": "python36964bit1b5f80c10f0f4e8aafd9bed8fdd91b79",
   "display_name": "Python 3.6.9 64-bit"
  }
 },
 "nbformat": 4,
 "nbformat_minor": 2
}