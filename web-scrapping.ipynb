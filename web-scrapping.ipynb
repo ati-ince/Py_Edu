{
 "cells": [
  {
   "cell_type": "markdown",
   "metadata": {},
   "source": [
    "## Web Scrapping\n",
    "In here, I try to undestand fundemantals of web scrapping. What I found:\n",
    "\n",
    "**requests**: making HTTP requests and get HTML file basically. \n",
    "\n",
    "**bs4**: exract info from HTML file (already achieve the file with requests), what we request to reach"
   ]
  },
  {
   "cell_type": "code",
   "execution_count": 4,
   "metadata": {},
   "outputs": [],
   "source": [
    "import requests"
   ]
  },
  {
   "cell_type": "markdown",
   "metadata": {},
   "source": [
    "### GET request\n",
    "\n",
    "With GET, bringing powerful response object from requests. Popular information from response object:\n",
    "\n",
    "**status_code**: getting *200*, *404* etc. succesfull or fail code \n",
    "\n",
    "**content**: getting all HTML information in *binary* format\n",
    "\n",
    "**text**: getting all HTML information in *string* format\n",
    "\n",
    "** *P.S.* **: in different situation we use content (binary) or directly text (string) format. Some character need to convert or else. \n",
    "\n",
    "\n"
   ]
  },
  {
   "cell_type": "code",
   "execution_count": 27,
   "metadata": {},
   "outputs": [
    {
     "output_type": "execute_result",
     "data": {
      "text/plain": "{'date': 'Sun, 14 Jun 2020 11:15:58 GMT', 'content-type': 'text/html; charset=utf-8', 'server': 'GitHub.com', 'status': '200 OK', 'vary': 'X-PJAX, Accept-Encoding, Accept, X-Requested-With, Accept-Encoding', 'etag': 'W/\"70ff864c552fa9776e511692674addb8\"', 'cache-control': 'max-age=0, private, must-revalidate', 'strict-transport-security': 'max-age=31536000; includeSubdomains; preload', 'x-frame-options': 'deny', 'x-content-type-options': 'nosniff', 'x-xss-protection': '1; mode=block', 'referrer-policy': 'origin-when-cross-origin, strict-origin-when-cross-origin', 'expect-ct': 'max-age=2592000, report-uri=\"https://api.github.com/_private/browser/errors\"', 'content-security-policy': \"default-src 'none'; base-uri 'self'; block-all-mixed-content; connect-src 'self' uploads.github.com www.githubstatus.com collector.githubapp.com api.github.com www.google-analytics.com github-cloud.s3.amazonaws.com github-production-repository-file-5c1aeb.s3.amazonaws.com github-production-upload-manifest-file-7fdce7.s3.amazonaws.com github-production-user-asset-6210df.s3.amazonaws.com cdn.optimizely.com logx.optimizely.com/v1/events wss://live.github.com; font-src github.githubassets.com; form-action 'self' github.com gist.github.com; frame-ancestors 'none'; frame-src render.githubusercontent.com; img-src 'self' data: github.githubassets.com identicons.github.com collector.githubapp.com github-cloud.s3.amazonaws.com *.githubusercontent.com customer-stories-feed.github.com spotlights-feed.github.com; manifest-src 'self'; media-src 'none'; script-src github.githubassets.com; style-src 'unsafe-inline' github.githubassets.com; worker-src github.com/socket-worker.js gist.github.com/socket-worker.js\", 'Content-Encoding': 'gzip', 'Set-Cookie': '_gh_sess=Opb2IyMHy0nUCIXaev1AhebKypnUGQ12VIIYmp9ksJJqjxT7de45tIGA6fNWtUP2Uva%2B7I7wvIx2g7ynK2cutIFwAVLDhI9Ys7bTgSPkUQT8UHzfSB6ek1zf7A8BATXs2tw8WIRRajWV9WffMaTzVkTETVHItVt57zME26ddWdYtpfnk5xMqoS2jmBsi2C%2BbJyD4V2un%2F97CiQPNvgTSYN2OIWKadaaQVwxDMIDC4S%2Bk8%2F2EQJm2M6pFkN4dlhwmSNdncHrIR5%2F1RQC5PdOHHQ%3D%3D--cgfGWpo8g9IADIVB--%2B3Kp%2B3Ss25MUkMhNJL7q%2BA%3D%3D; Path=/; HttpOnly; Secure; SameSite=Lax, _octo=GH1.1.1460985000.1592133364; Path=/; Domain=github.com; Expires=Mon, 14 Jun 2021 11:16:04 GMT; Secure; SameSite=Lax, logged_in=no; Path=/; Domain=github.com; Expires=Mon, 14 Jun 2021 11:16:04 GMT; HttpOnly; Secure; SameSite=Lax', 'Accept-Ranges': 'bytes', 'Transfer-Encoding': 'chunked', 'X-GitHub-Request-Id': '9A56:52A6:1B16D69:264AB31:5EE606F4'}"
     },
     "metadata": {},
     "execution_count": 27
    }
   ],
   "source": [
    "response = requests.get('https://github.com')\n",
    "\n",
    "response.headers"
   ]
  },
  {
   "cell_type": "code",
   "execution_count": 28,
   "metadata": {},
   "outputs": [
    {
     "output_type": "execute_result",
     "data": {
      "text/plain": "'text/html; charset=utf-8'"
     },
     "metadata": {},
     "execution_count": 28
    }
   ],
   "source": [
    "response.headers['content-type']"
   ]
  },
  {
   "cell_type": "markdown",
   "metadata": {},
   "source": [
    "### Extra info: **HTTP Methods**\n",
    "\n",
    "**GET**: is used to request data from a specified resource. GET is one of the most common HTTP methods. *only ascii*, *have length restrictions,maximum URL length is 2048 characters*, *Data is visible to everyone in the URL*\n",
    "\n",
    "**POST**: is used to send data to a server to create/update a resource. *No restrictions. Binary data is also allowed*, *no restrictions on data length*\n",
    "\n"
   ]
  }
 ],
 "metadata": {
  "language_info": {
   "codemirror_mode": {
    "name": "ipython",
    "version": 3
   },
   "file_extension": ".py",
   "mimetype": "text/x-python",
   "name": "python",
   "nbconvert_exporter": "python",
   "pygments_lexer": "ipython3",
   "version": "3.6.9-final"
  },
  "orig_nbformat": 2,
  "kernelspec": {
   "name": "python36964bitcbaaeb704f0a49da8ba44bde68fc6153",
   "display_name": "Python 3.6.9 64-bit"
  }
 },
 "nbformat": 4,
 "nbformat_minor": 2
}