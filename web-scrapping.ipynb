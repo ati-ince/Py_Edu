{
 "cells": [
  {
   "cell_type": "markdown",
   "metadata": {},
   "source": [
    "# Web Scrapping\n",
    "\n",
    "In here, I try to undestand fundemantals of web scrapping. What I found:\n",
    "\n",
    "**requests**: making HTTP requests and get HTML file basically. \n",
    "\n",
    "**bs4**: exract info from HTML file (already achieve the file with requests), what we request to reach"
   ]
  },
  {
   "cell_type": "markdown",
   "metadata": {},
   "source": [
    "## requests\n",
    "** *getting html file from url* that mostly used in web scrapping**"
   ]
  },
  {
   "cell_type": "code",
   "execution_count": 2,
   "metadata": {},
   "outputs": [],
   "source": [
    "import requests"
   ]
  },
  {
   "cell_type": "markdown",
   "metadata": {},
   "source": [
    "### GET request\n",
    "\n",
    "With GET, bringing powerful response object from requests. Popular information from response object:\n",
    "\n",
    "**status_code**: getting *200*, *404* etc. succesfull or fail code \n",
    "\n",
    "**content**: getting all HTML information in *binary* format\n",
    "\n",
    "**text**: getting all HTML information in *string* format\n",
    "\n",
    "** *P.S.* **: in different situation we use content (binary) or directly text (string) format. Some character need to convert or else. \n",
    "\n",
    "\n"
   ]
  },
  {
   "cell_type": "code",
   "execution_count": 11,
   "metadata": {},
   "outputs": [
    {
     "output_type": "execute_result",
     "data": {
      "text/plain": "{'date': 'Sun, 28 Jun 2020 11:29:32 GMT', 'content-type': 'text/html; charset=utf-8', 'server': 'GitHub.com', 'status': '200 OK', 'vary': 'X-PJAX, Accept-Encoding, Accept, X-Requested-With, Accept-Encoding', 'etag': 'W/\"5754da1156e918b11bc15e608946b598\"', 'cache-control': 'max-age=0, private, must-revalidate', 'strict-transport-security': 'max-age=31536000; includeSubdomains; preload', 'x-frame-options': 'deny', 'x-content-type-options': 'nosniff', 'x-xss-protection': '1; mode=block', 'referrer-policy': 'origin-when-cross-origin, strict-origin-when-cross-origin', 'expect-ct': 'max-age=2592000, report-uri=\"https://api.github.com/_private/browser/errors\"', 'content-security-policy': \"default-src 'none'; base-uri 'self'; block-all-mixed-content; connect-src 'self' uploads.github.com www.githubstatus.com collector.githubapp.com api.github.com www.google-analytics.com github-cloud.s3.amazonaws.com github-production-repository-file-5c1aeb.s3.amazonaws.com github-production-upload-manifest-file-7fdce7.s3.amazonaws.com github-production-user-asset-6210df.s3.amazonaws.com cdn.optimizely.com logx.optimizely.com/v1/events wss://live.github.com wss://alive.github.com; font-src github.githubassets.com; form-action 'self' github.com gist.github.com; frame-ancestors 'none'; frame-src render.githubusercontent.com; img-src 'self' data: github.githubassets.com identicons.github.com collector.githubapp.com github-cloud.s3.amazonaws.com *.githubusercontent.com customer-stories-feed.github.com spotlights-feed.github.com; manifest-src 'self'; media-src 'none'; script-src github.githubassets.com; style-src 'unsafe-inline' github.githubassets.com; worker-src github.com/socket-worker.js gist.github.com/socket-worker.js\", 'Content-Encoding': 'gzip', 'Set-Cookie': '_gh_sess=F4O6XFiQVow0ZSp8E6Ex7T1Yxf0T6V54mj84KqBCBdNO6xL9PrwhbKnOfmYNPdaj%2BCO52wKVzOv6ylyYxJjppzbwj6MAXsgk%2BGJ3Pb21SK9I6s9vm6Z67nU5uHi4OV2MUGOON9lW8s42dfGp%2Bv3zJSQC%2Fe2oV0CYXJ%2FuOlE1QIjfkLRH7TyXvS2jfJgO8rFO04q5HD0RHAV8NZwUmLrB3rtY5PJMDUmJT5o8%2BsA7KU0kNUcrxrtgtlctDBVqlsFAMR3Vo97rJ7A1ArAXzHQ96w%3D%3D--AvAeP5WxJlujNb9S--4oHHxDHFBxvHSZfZ5GA8jw%3D%3D; Path=/; HttpOnly; Secure; SameSite=Lax, _octo=GH1.1.479695196.1593343782; Path=/; Domain=github.com; Expires=Mon, 28 Jun 2021 11:29:42 GMT; Secure; SameSite=Lax, logged_in=no; Path=/; Domain=github.com; Expires=Mon, 28 Jun 2021 11:29:42 GMT; HttpOnly; Secure; SameSite=Lax', 'Accept-Ranges': 'bytes', 'Transfer-Encoding': 'chunked', 'X-GitHub-Request-Id': 'B83C:A730:1EBDDD3:2CB6D94:5EF87F26'}"
     },
     "metadata": {},
     "execution_count": 11
    }
   ],
   "source": [
    "response = requests.get('https://github.com', timeout=1) #add timeout for performance, time restriction\n",
    "response.headers #just wrote first 250 letter"
   ]
  },
  {
   "cell_type": "code",
   "execution_count": 12,
   "metadata": {},
   "outputs": [
    {
     "output_type": "execute_result",
     "data": {
      "text/plain": "'text/html; charset=utf-8'"
     },
     "metadata": {},
     "execution_count": 12
    }
   ],
   "source": [
    "response.headers['content-type']"
   ]
  },
  {
   "cell_type": "markdown",
   "metadata": {},
   "source": [
    "**also**, we can use some get method wisely.... as shown below, sherhing repo with keys: "
   ]
  },
  {
   "cell_type": "code",
   "execution_count": 13,
   "metadata": {},
   "outputs": [],
   "source": [
    "out = response = requests.get(\n",
    "    'https://api.github.com/search/repositories',\n",
    "    params={'q': 'requests+language:python'},\n",
    "    headers={'Accept': 'application/vnd.github.v3.text-match+json'},\n",
    ")\n"
   ]
  },
  {
   "cell_type": "markdown",
   "metadata": {},
   "source": [
    "**Also** this module support, can be use authenticate task , user/passw "
   ]
  },
  {
   "cell_type": "code",
   "execution_count": 14,
   "metadata": {
    "tags": []
   },
   "outputs": [],
   "source": [
    "\n",
    "# Setting Goal -> \n",
    "\n",
    "import requests\n",
    "from bs4 import BeautifulSoup\n",
    "\n"
   ]
  },
  {
   "cell_type": "code",
   "execution_count": 16,
   "metadata": {
    "tags": []
   },
   "outputs": [
    {
     "output_type": "execute_result",
     "data": {
      "text/plain": "200"
     },
     "metadata": {},
     "execution_count": 16
    }
   ],
   "source": [
    "###\n",
    "response = requests.get('https://en.wikipedia.org/wiki/Turkey', timeout=1) #add timeout for performance, time restriction\n",
    "\n",
    "response.status_code\n",
    "\n",
    "\n"
   ]
  },
  {
   "cell_type": "markdown",
   "metadata": {},
   "source": [
    "### Extra info: **HTTP Methods**\n",
    "**Info:https://http.cat/**\n",
    "\n",
    "**GET**: is used to request data from a specified resource. GET is one of the most common HTTP methods. *only ascii*, *have length restrictions,maximum URL length is 2048 characters*, *Data is visible to everyone in the URL*\n",
    "\n",
    "**POST**: is used to send data to a server to create/update a resource. *No restrictions. Binary data is also allowed*, *no restrictions on data length*\n",
    "\n"
   ]
  }
 ],
 "metadata": {
  "language_info": {
   "codemirror_mode": {
    "name": "ipython",
    "version": 3
   },
   "file_extension": ".py",
   "mimetype": "text/x-python",
   "name": "python",
   "nbconvert_exporter": "python",
   "pygments_lexer": "ipython3",
   "version": "3.6.9-final"
  },
  "orig_nbformat": 2,
  "kernelspec": {
   "name": "python36964bit1b5f80c10f0f4e8aafd9bed8fdd91b79",
   "display_name": "Python 3.6.9 64-bit"
  }
 },
 "nbformat": 4,
 "nbformat_minor": 2
}